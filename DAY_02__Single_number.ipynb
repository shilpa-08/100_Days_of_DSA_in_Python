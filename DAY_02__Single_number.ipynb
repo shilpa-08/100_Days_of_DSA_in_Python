{
 "cells": [
  {
   "cell_type": "markdown",
   "id": "5ace0391",
   "metadata": {},
   "source": [
    "### Given a non-empty array of integers nums, every element appears twice except for one. Find that single one. You must implement a solution with a linear runtime complexity and use only constant extra space.\n",
    "\n",
    " \n",
    "\n",
    "Example 1:\n",
    "\n",
    "Input: nums = [2,2,1]\n",
    "Output: 1\n",
    "Example 2:\n",
    "\n",
    "Input: nums = [4,1,2,1,2]\n",
    "Output: 4\n",
    "Example 3:\n",
    "\n",
    "Input: nums = [1]\n",
    "Output: 1\n"
   ]
  },
  {
   "cell_type": "code",
   "execution_count": null,
   "id": "3aae866b",
   "metadata": {},
   "outputs": [],
   "source": []
  },
  {
   "cell_type": "code",
   "execution_count": null,
   "id": "902f05e6",
   "metadata": {},
   "outputs": [],
   "source": []
  },
  {
   "cell_type": "markdown",
   "id": "001d7ae4",
   "metadata": {},
   "source": [
    "# XOR PROPERTIES\n",
    "* XOR of two number is always zero        \n",
    "  # a^a=0\n",
    "* XOR  of any number zero is number itself     \n",
    "# a^0=a\n",
    "* cummulative                               \n",
    "# a ^ b =b ^ a"
   ]
  },
  {
   "cell_type": "markdown",
   "id": "0da484b1",
   "metadata": {},
   "source": [
    "[2,1,4,1,2]\n",
    " \n",
    "    \n",
    "2 ^ 1 ^ 4 ^ 1 ^ 2 "
   ]
  },
  {
   "cell_type": "code",
   "execution_count": null,
   "id": "b03979ce",
   "metadata": {},
   "outputs": [],
   "source": [
    "XOR of whole array will give single occurence of number as answer\n"
   ]
  },
  {
   "cell_type": "code",
   "execution_count": 7,
   "id": "d31d9455",
   "metadata": {},
   "outputs": [],
   "source": [
    "def single_number(list1):\n",
    "    ans=0                      # as xor with any number is the  number itself\n",
    "    for num in list1:\n",
    "        print(ans, num, ans^num)\n",
    "        ans=ans^num\n",
    "    return ans"
   ]
  },
  {
   "cell_type": "code",
   "execution_count": 8,
   "id": "e95f765c",
   "metadata": {},
   "outputs": [
    {
     "name": "stdout",
     "output_type": "stream",
     "text": [
      "0 2 2\n",
      "2 2 0\n",
      "0 1 1\n"
     ]
    },
    {
     "data": {
      "text/plain": [
       "1"
      ]
     },
     "execution_count": 8,
     "metadata": {},
     "output_type": "execute_result"
    }
   ],
   "source": [
    "single_number([2,2,1])"
   ]
  },
  {
   "cell_type": "code",
   "execution_count": 11,
   "id": "c359f8c1",
   "metadata": {},
   "outputs": [
    {
     "name": "stdout",
     "output_type": "stream",
     "text": [
      "0 9 9\n",
      "9 1 8\n",
      "8 2 10\n",
      "10 3 9\n",
      "9 4 13\n",
      "13 5 8\n",
      "8 6 14\n",
      "14 3 13\n",
      "13 4 9\n",
      "9 5 12\n",
      "12 6 10\n",
      "10 2 8\n",
      "8 1 9\n"
     ]
    },
    {
     "data": {
      "text/plain": [
       "9"
      ]
     },
     "execution_count": 11,
     "metadata": {},
     "output_type": "execute_result"
    }
   ],
   "source": [
    "single_number([9,1,2,3,4,5,6,3,4,5,6,2,1])"
   ]
  },
  {
   "cell_type": "code",
   "execution_count": null,
   "id": "5989c009",
   "metadata": {},
   "outputs": [],
   "source": []
  },
  {
   "cell_type": "code",
   "execution_count": null,
   "id": "6a7ef409",
   "metadata": {},
   "outputs": [],
   "source": []
  }
 ],
 "metadata": {
  "kernelspec": {
   "display_name": "Python 3",
   "language": "python",
   "name": "python3"
  },
  "language_info": {
   "codemirror_mode": {
    "name": "ipython",
    "version": 3
   },
   "file_extension": ".py",
   "mimetype": "text/x-python",
   "name": "python",
   "nbconvert_exporter": "python",
   "pygments_lexer": "ipython3",
   "version": "3.8.10"
  }
 },
 "nbformat": 4,
 "nbformat_minor": 5
}
