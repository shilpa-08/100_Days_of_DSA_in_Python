{
 "cells": [
  {
   "cell_type": "markdown",
   "id": "a39e6115",
   "metadata": {},
   "source": [
    "### Given a 1-indexed array of integers numbers that is already sorted in non-decreasing order, find two numbers such that they add up to a specific target number. Let these two numbers be numbers[index1] and numbers[index2] where 1 <= index1 < index2 < numbers.length.Return the indices of the two numbers, index1 and index2, added by one as an integer array [index1, index2] of length 2.The tests are generated such that there is exactly one solution. You may not use the same element twiceYour solution must use only constant extra space.\n",
    "\n",
    " \n",
    "\n",
    "Example 1:\n",
    "\n",
    "Input: numbers = [2,7,11,15], target = 9\n",
    "Output: [1,2]\n",
    "Explanation: The sum of 2 and 7 is 9. Therefore, index1 = 1, index2 = 2. We return [1, 2].\n",
    "Example 2:\n",
    "\n",
    "Input: numbers = [2,3,4], target = 6\n",
    "Output: [1,3]\n",
    "Explanation: The sum of 2 and 4 is 6. Therefore index1 = 1, index2 = 3. We return [1, 3].\n",
    "Example 3:\n",
    "\n",
    "Input: numbers = [-1,0], target = -1\n",
    "Output: [1,2]\n",
    "Explanation: The sum of -1 and 0 is -1. Therefore index1 = 1, index2 = 2. We return [1, 2]."
   ]
  },
  {
   "cell_type": "markdown",
   "id": "000b1008",
   "metadata": {},
   "source": [
    "# SOLUTION"
   ]
  },
  {
   "cell_type": "markdown",
   "id": "fbfa01af",
   "metadata": {},
   "source": [
    "#### GIVEN \n",
    "* 1-indexed array i.e., array starts from index 1\n",
    "* non-decreasing index i.e., array is sorted ( ascending order )\n",
    "* constant extra space means cannot use hash "
   ]
  },
  {
   "cell_type": "markdown",
   "id": "61588be5",
   "metadata": {},
   "source": [
    "### Approach  & logic"
   ]
  },
  {
   "cell_type": "markdown",
   "id": "b82df1d4",
   "metadata": {},
   "source": [
    "* we will use two pointer approach, \n",
    "* the first pointer will be at start and the second pointer will be at the end\n",
    "* so as we traverse through the array \n",
    "* i) if the sum of firstpointer & secondpointer LESS then target increase the First pointer\n",
    "* ii) if the sum of firstpointer & secondpointer GREATER then target increase the Second pointer\n",
    "* iii) if not both i) &  ii) means we met the target"
   ]
  },
  {
   "cell_type": "code",
   "execution_count": 57,
   "id": "8f458188",
   "metadata": {},
   "outputs": [],
   "source": [
    "\n",
    "def twosum(list,target):\n",
    "    start_pointer=0\n",
    "    end_pointer=len(list)-1\n",
    "    answer=[]\n",
    "    while (start_pointer <end_pointer):\n",
    "        sum_of_pointer=list[start_pointer]+list[end_pointer]\n",
    "        if sum_of_pointer < target:\n",
    "            start_pointer +=1\n",
    "        elif sum_of_pointer > target:\n",
    "            end_pointer -=1\n",
    "        else:\n",
    "            answer.append(start_pointer+1)\n",
    "            answer.append(end_pointer+1)\n",
    "            break\n",
    "    return answer"
   ]
  },
  {
   "cell_type": "code",
   "execution_count": 58,
   "id": "858fd899",
   "metadata": {},
   "outputs": [
    {
     "data": {
      "text/plain": [
       "[1, 2]"
      ]
     },
     "execution_count": 58,
     "metadata": {},
     "output_type": "execute_result"
    }
   ],
   "source": [
    "twosum([2,7,11,15], target = 9)"
   ]
  },
  {
   "cell_type": "code",
   "execution_count": 60,
   "id": "9d12f0fe",
   "metadata": {},
   "outputs": [
    {
     "data": {
      "text/plain": [
       "[1, 3]"
      ]
     },
     "execution_count": 60,
     "metadata": {},
     "output_type": "execute_result"
    }
   ],
   "source": [
    "twosum([2,3,4], target = 6)"
   ]
  },
  {
   "cell_type": "code",
   "execution_count": 62,
   "id": "c7d6a8f8",
   "metadata": {},
   "outputs": [
    {
     "data": {
      "text/plain": [
       "[1, 2]"
      ]
     },
     "execution_count": 62,
     "metadata": {},
     "output_type": "execute_result"
    }
   ],
   "source": [
    "twosum( [-1,0], target = -1)"
   ]
  },
  {
   "cell_type": "markdown",
   "id": "e52b15bd",
   "metadata": {},
   "source": [
    "# Explanation"
   ]
  },
  {
   "cell_type": "code",
   "execution_count": 54,
   "id": "3620c3fa",
   "metadata": {},
   "outputs": [],
   "source": [
    "\n",
    "def twosum(list,target):\n",
    "    start_pointer=0\n",
    "    end_pointer=len(list)-1\n",
    "    answer=[]\n",
    "    while (start_pointer <end_pointer):\n",
    "        print('--------------------------------------------------------------------------------------------------')\n",
    "        print('start_pointer=',start_pointer,'i.e., ',list[start_pointer],'end_pointer =',end_pointer,'i.e.', list[end_pointer])\n",
    "        sum_of_pointer=list[start_pointer]+list[end_pointer]\n",
    "        print(list[start_pointer],'+',list[end_pointer],'=',sum_of_pointer  )\n",
    "        if sum_of_pointer < target:\n",
    "            start_pointer += 1\n",
    "            print('start_pointer_moved_forward')\n",
    "        elif sum_of_pointer > target:\n",
    "            end_pointer -=1\n",
    "            print('end_pointer_moved backward')\n",
    "        else:\n",
    "            answer.append(start_pointer+1)\n",
    "            answer.append(end_pointer+1)\n",
    "            break"
   ]
  },
  {
   "cell_type": "code",
   "execution_count": 55,
   "id": "49f88736",
   "metadata": {},
   "outputs": [
    {
     "name": "stdout",
     "output_type": "stream",
     "text": [
      "--------------------------------------------------------------------------------------------------\n",
      "start_pointer= 0 i.e.,  2 end_pointer = 3 i.e. 15\n",
      "2 + 15 = 17\n",
      "end_pointer_moved backward\n",
      "--------------------------------------------------------------------------------------------------\n",
      "start_pointer= 0 i.e.,  2 end_pointer = 2 i.e. 11\n",
      "2 + 11 = 13\n",
      "end_pointer_moved backward\n",
      "--------------------------------------------------------------------------------------------------\n",
      "start_pointer= 0 i.e.,  2 end_pointer = 1 i.e. 7\n",
      "2 + 7 = 9\n"
     ]
    }
   ],
   "source": [
    "twosum([2,7,11,15], target = 9)"
   ]
  },
  {
   "cell_type": "code",
   "execution_count": null,
   "id": "aedf7595",
   "metadata": {},
   "outputs": [],
   "source": []
  },
  {
   "cell_type": "code",
   "execution_count": null,
   "id": "32949371",
   "metadata": {},
   "outputs": [],
   "source": []
  }
 ],
 "metadata": {
  "kernelspec": {
   "display_name": "Python 3",
   "language": "python",
   "name": "python3"
  },
  "language_info": {
   "codemirror_mode": {
    "name": "ipython",
    "version": 3
   },
   "file_extension": ".py",
   "mimetype": "text/x-python",
   "name": "python",
   "nbconvert_exporter": "python",
   "pygments_lexer": "ipython3",
   "version": "3.8.10"
  }
 },
 "nbformat": 4,
 "nbformat_minor": 5
}
