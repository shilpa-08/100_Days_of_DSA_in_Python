{
 "cells": [
  {
   "cell_type": "markdown",
   "id": "ad89af3f",
   "metadata": {},
   "source": [
    "# Best Time to Buy and Sell Stock\n",
    " \n",
    "'''\n",
    "You are given an array prices where prices[i] is the price of a given stock on the ith day.\n",
    "\n",
    "You want to maximize your profit by choosing a single day to buy one stock and choosing a different day in the future to sell that stock.\n",
    "\n",
    "Return the maximum profit you can achieve from this transaction. If you cannot achieve any profit, return 0.\n",
    "\n",
    " \n",
    "\n",
    "Example 1:\n",
    "\n",
    "Input: prices = [7,1,5,3,6,4]\n",
    "Output: 5\n",
    "Explanation: Buy on day 2 (price = 1) and sell on day 5 (price = 6), profit = 6-1 = 5.\n",
    "Note that buying on day 2 and selling on day 1 is not allowed because you must buy before you sell.\n",
    "Example 2:\n",
    "\n",
    "Input: prices = [7,6,4,3,1]\n",
    "Output: 0\n",
    "Explanation: In this case, no transactions are done and the max profit = 0.'''"
   ]
  },
  {
   "cell_type": "markdown",
   "id": "33ba60ae",
   "metadata": {},
   "source": [
    "# Logic\n",
    "with every iteration compare the current rate with the minimum of the rates traversed so far"
   ]
  },
  {
   "cell_type": "code",
   "execution_count": 1,
   "id": "01523905",
   "metadata": {},
   "outputs": [],
   "source": [
    "\n",
    "def maxProfit(prices:list):\n",
    "    ans=0\n",
    "    minimumsofar=prices[0]\n",
    "    for i in range(1,len(prices)):\n",
    "        \n",
    "        print('****************************range=',i)\n",
    "        print('prices[',i,']',prices[i])\n",
    "        print('minimumsofar',minimumsofar)\n",
    "        currentprofit=prices[i]-minimumsofar\n",
    "        print('currentprofit at range',i,'i.e.,',prices[i], 'with minimumsofar',minimumsofar ,'is =', currentprofit )\n",
    "        if currentprofit >ans:\n",
    "            ans=currentprofit\n",
    "            print('         here highest current profit  ans=',ans)\n",
    "        minimumsofar=min(minimumsofar,prices[i])\n",
    "        print('minimumsofar in list so far traversed is  ',minimumsofar)\n",
    "        print('\\n\\n')\n",
    "    return ans"
   ]
  },
  {
   "cell_type": "code",
   "execution_count": 2,
   "id": "69a9e03a",
   "metadata": {},
   "outputs": [
    {
     "name": "stdout",
     "output_type": "stream",
     "text": [
      "****************************range= 1\n",
      "prices[ 1 ] 1\n",
      "minimumsofar 7\n",
      "currentprofit at range 1 i.e., 1 with minimumsofar 7 is = -6\n",
      "minimumsofar in list so far traversed is   1\n",
      "\n",
      "\n",
      "\n",
      "****************************range= 2\n",
      "prices[ 2 ] 5\n",
      "minimumsofar 1\n",
      "currentprofit at range 2 i.e., 5 with minimumsofar 1 is = 4\n",
      "         here highest current profit  ans= 4\n",
      "minimumsofar in list so far traversed is   1\n",
      "\n",
      "\n",
      "\n",
      "****************************range= 3\n",
      "prices[ 3 ] 3\n",
      "minimumsofar 1\n",
      "currentprofit at range 3 i.e., 3 with minimumsofar 1 is = 2\n",
      "minimumsofar in list so far traversed is   1\n",
      "\n",
      "\n",
      "\n",
      "****************************range= 4\n",
      "prices[ 4 ] 6\n",
      "minimumsofar 1\n",
      "currentprofit at range 4 i.e., 6 with minimumsofar 1 is = 5\n",
      "         here highest current profit  ans= 5\n",
      "minimumsofar in list so far traversed is   1\n",
      "\n",
      "\n",
      "\n",
      "****************************range= 5\n",
      "prices[ 5 ] 4\n",
      "minimumsofar 1\n",
      "currentprofit at range 5 i.e., 4 with minimumsofar 1 is = 3\n",
      "minimumsofar in list so far traversed is   1\n",
      "\n",
      "\n",
      "\n"
     ]
    },
    {
     "data": {
      "text/plain": [
       "5"
      ]
     },
     "execution_count": 2,
     "metadata": {},
     "output_type": "execute_result"
    }
   ],
   "source": [
    "maxProfit([7,1,5,3,6,4])"
   ]
  },
  {
   "cell_type": "code",
   "execution_count": 3,
   "id": "84222db5",
   "metadata": {},
   "outputs": [
    {
     "name": "stdout",
     "output_type": "stream",
     "text": [
      "****************************range= 1\n",
      "prices[ 1 ] 6\n",
      "minimumsofar 7\n",
      "currentprofit at range 1 i.e., 6 with minimumsofar 7 is = -1\n",
      "minimumsofar in list so far traversed is   6\n",
      "\n",
      "\n",
      "\n",
      "****************************range= 2\n",
      "prices[ 2 ] 4\n",
      "minimumsofar 6\n",
      "currentprofit at range 2 i.e., 4 with minimumsofar 6 is = -2\n",
      "minimumsofar in list so far traversed is   4\n",
      "\n",
      "\n",
      "\n",
      "****************************range= 3\n",
      "prices[ 3 ] 3\n",
      "minimumsofar 4\n",
      "currentprofit at range 3 i.e., 3 with minimumsofar 4 is = -1\n",
      "minimumsofar in list so far traversed is   3\n",
      "\n",
      "\n",
      "\n",
      "****************************range= 4\n",
      "prices[ 4 ] 1\n",
      "minimumsofar 3\n",
      "currentprofit at range 4 i.e., 1 with minimumsofar 3 is = -2\n",
      "minimumsofar in list so far traversed is   1\n",
      "\n",
      "\n",
      "\n"
     ]
    },
    {
     "data": {
      "text/plain": [
       "0"
      ]
     },
     "execution_count": 3,
     "metadata": {},
     "output_type": "execute_result"
    }
   ],
   "source": [
    "maxProfit( [7,6,4,3,1] )"
   ]
  },
  {
   "cell_type": "code",
   "execution_count": null,
   "id": "17564853",
   "metadata": {},
   "outputs": [],
   "source": []
  }
 ],
 "metadata": {
  "kernelspec": {
   "display_name": "Python 3",
   "language": "python",
   "name": "python3"
  },
  "language_info": {
   "codemirror_mode": {
    "name": "ipython",
    "version": 3
   },
   "file_extension": ".py",
   "mimetype": "text/x-python",
   "name": "python",
   "nbconvert_exporter": "python",
   "pygments_lexer": "ipython3",
   "version": "3.8.10"
  }
 },
 "nbformat": 4,
 "nbformat_minor": 5
}
